{
  "nbformat": 4,
  "nbformat_minor": 0,
  "metadata": {
    "colab": {
      "name": "pyspark_recommendation_system.ipynb",
      "provenance": [],
      "collapsed_sections": [],
      "include_colab_link": true
    },
    "kernelspec": {
      "name": "python3",
      "display_name": "Python 3"
    }
  },
  "cells": [
    {
      "cell_type": "markdown",
      "metadata": {
        "id": "view-in-github",
        "colab_type": "text"
      },
      "source": [
        "<a href=\"https://colab.research.google.com/github/Datangels/Machine_Learning_with_PySpark/blob/master/pyspark_recommendation_system.ipynb\" target=\"_parent\"><img src=\"https://colab.research.google.com/assets/colab-badge.svg\" alt=\"Open In Colab\"/></a>"
      ]
    },
    {
      "cell_type": "markdown",
      "metadata": {
        "id": "AYNNlTodNLbf",
        "colab_type": "text"
      },
      "source": [
        "## **Google Colab configuration & creation the SparkSession Object**"
      ]
    },
    {
      "cell_type": "code",
      "metadata": {
        "id": "8FKtDaeR2Z46",
        "colab_type": "code",
        "colab": {}
      },
      "source": [
        "!apt-get install openjdk-8-jdk-headless -qq > /dev/null\n",
        "!wget -q https://www-us.apache.org/dist/spark/spark-2.4.4/spark-2.4.4-bin-hadoop2.7.tgz\n",
        "!tar xf spark-2.4.4-bin-hadoop2.7.tgz\n",
        "!pip install -q findspark"
      ],
      "execution_count": 0,
      "outputs": []
    },
    {
      "cell_type": "code",
      "metadata": {
        "id": "EuT3jHHAOBvu",
        "colab_type": "code",
        "colab": {}
      },
      "source": [
        "import os\n",
        "os.environ[\"JAVA_HOME\"] = \"/usr/lib/jvm/java-8-openjdk-amd64\"\n",
        "os.environ[\"SPARK_HOME\"] = \"/content/spark-2.4.4-bin-hadoop2.7\""
      ],
      "execution_count": 0,
      "outputs": []
    },
    {
      "cell_type": "code",
      "metadata": {
        "id": "pWpueej7ODZS",
        "colab_type": "code",
        "colab": {}
      },
      "source": [
        "import findspark\n",
        "findspark.init()\n",
        "from pyspark.sql import SparkSession\n",
        "spark = SparkSession.builder.master(\"local[*]\").getOrCreate()\n",
        "import numpy as np\n",
        "import seaborn as sns\n",
        "from matplotlib import pyplot as plt"
      ],
      "execution_count": 0,
      "outputs": []
    },
    {
      "cell_type": "markdown",
      "metadata": {
        "id": "D2cMuUpYNr1e",
        "colab_type": "text"
      },
      "source": [
        "## **Read the Dataset**"
      ]
    },
    {
      "cell_type": "code",
      "metadata": {
        "id": "kLtRORDQ7PK1",
        "colab_type": "code",
        "colab": {}
      },
      "source": [
        "from google.colab import drive\n",
        "drive.mount('/content/drive', force_remount=True)"
      ],
      "execution_count": 0,
      "outputs": []
    },
    {
      "cell_type": "code",
      "metadata": {
        "id": "Bp28j6Rz6CnA",
        "colab_type": "code",
        "colab": {}
      },
      "source": [
        "dataset_not_clean = spark.read.csv('/content/drive/My Drive/pycharm_colab_training/dataset/movie_ratings_df.csv',inferSchema=True, header=True)"
      ],
      "execution_count": 0,
      "outputs": []
    },
    {
      "cell_type": "markdown",
      "metadata": {
        "id": "XWXXJY2UON8Z",
        "colab_type": "text"
      },
      "source": [
        "## **Exploratory Data Analysis**\n"
      ]
    },
    {
      "cell_type": "code",
      "metadata": {
        "id": "L5HTBvNT_8AZ",
        "colab_type": "code",
        "colab": {}
      },
      "source": [
        "print((dataset_not_clean.count(), len(dataset_not_clean.columns)))\n",
        "# dataset_not_clean.printSchema()\n",
        "# dataset_not_clean.describe().show()\n",
        "# print((dataset_not_clean.count(), len(dataset_not_clean.columns)))"
      ],
      "execution_count": 0,
      "outputs": []
    },
    {
      "cell_type": "markdown",
      "metadata": {
        "id": "V0nGAhbvLeUc",
        "colab_type": "text"
      },
      "source": [
        "## **Feature Engineering**"
      ]
    },
    {
      "cell_type": "code",
      "metadata": {
        "id": "GWtHfP_SLfzX",
        "colab_type": "code",
        "colab": {}
      },
      "source": [
        "from pyspark.sql.functions import *\n",
        "from pyspark.ml.feature import StringIndexer, IndexToString"
      ],
      "execution_count": 0,
      "outputs": []
    },
    {
      "cell_type": "code",
      "metadata": {
        "id": "oXOYvzeSkcmu",
        "colab_type": "code",
        "colab": {}
      },
      "source": [
        "stringIndexer = StringIndexer(inputCol=\"title\", outputCol=\"title_new\")\n",
        "model = stringIndexer.fit(dataset_not_clean)\n",
        "indexed_df = model.transform(dataset_not_clean)"
      ],
      "execution_count": 0,
      "outputs": []
    },
    {
      "cell_type": "markdown",
      "metadata": {
        "id": "3pu_7311a86h",
        "colab_type": "text"
      },
      "source": [
        "## **Splitting the Dataset**"
      ]
    },
    {
      "cell_type": "code",
      "metadata": {
        "id": "J6hf7Z9vEjNz",
        "colab_type": "code",
        "colab": {}
      },
      "source": [
        "train_df, test_df = indexed_df.randomSplit([0.75,0.25])\n",
        "print(\"whole dataset: \" + str(indexed_df.count()))\n",
        "print(\"train_df dataset: \" + str(train_df.count()))\n",
        "print(\"test_df dataset: \" + str(test_df.count()))"
      ],
      "execution_count": 0,
      "outputs": []
    },
    {
      "cell_type": "markdown",
      "metadata": {
        "id": "Hbppdk2cbbUK",
        "colab_type": "text"
      },
      "source": [
        "## **Build and Train Random Forest Model**\n"
      ]
    },
    {
      "cell_type": "code",
      "metadata": {
        "id": "RMYgTHHxE4MU",
        "colab_type": "code",
        "colab": {}
      },
      "source": [
        "from pyspark.ml.recommendation import ALS\n",
        "rec = ALS(maxIter=10,regParam=0.01,userCol='userId',itemCol='title_new',ratingCol='rating',nonnegative=True,coldStartStrategy=\"drop\")\n",
        "rec_model = rec.fit(train_df)"
      ],
      "execution_count": 0,
      "outputs": []
    },
    {
      "cell_type": "markdown",
      "metadata": {
        "id": "IriNi16pP25c",
        "colab_type": "text"
      },
      "source": [
        "## **Predictions and Evaluation on Test Data**"
      ]
    },
    {
      "cell_type": "code",
      "metadata": {
        "id": "UVE5snDNP55Z",
        "colab_type": "code",
        "colab": {}
      },
      "source": [
        "predicted_ratings = rec_model.transform(test_df)\n",
        "predicted_ratings.orderBy(rand()).show(10)"
      ],
      "execution_count": 0,
      "outputs": []
    },
    {
      "cell_type": "code",
      "metadata": {
        "id": "bj1cpuFCnA20",
        "colab_type": "code",
        "colab": {}
      },
      "source": [
        "from pyspark.ml.evaluation import RegressionEvaluator\n",
        "evaluator = RegressionEvaluator(metricName='rmse',predictionCol='prediction',labelCol='rating')\n",
        "rmse = evaluator.evaluate(predicted_ratings)\n",
        "print(rmse)"
      ],
      "execution_count": 0,
      "outputs": []
    },
    {
      "cell_type": "markdown",
      "metadata": {
        "id": "6DfpnzQ0Tpkd",
        "colab_type": "text"
      },
      "source": [
        "## **Recommend Top Movies That Active User Might Like**"
      ]
    },
    {
      "cell_type": "code",
      "metadata": {
        "id": "Hj1hQWp8TqwH",
        "colab_type": "code",
        "colab": {}
      },
      "source": [
        "unique_movies_df = indexed.select('title_new').distinct()\n",
        "a = unique_movies_df.alias('a')\n",
        "user_id = 85 # Picking one user for which we could make reccomendations\n",
        "watched_movies_df = indexed.filter(indexed['userId'] == user_id).select('title_new').distinct() \n",
        "b = watched_movies_df.alias('b')\n",
        "total_movies_df = a.join(b, a.title_new == b.title_new,how='left')\n",
        "remaining_movies_df = total_movies_df.where(col(\"b.title_new\").isNull()).select(a.title_new).distinct()\n",
        "remaining_movies_df = remaining_movies_df.withColumn(\"userId\",lit(int(user_id)))\n",
        "recommendations_df = rec_model.transform(remaining_movies_df).orderBy('prediction',ascending=False)\n",
        "recommendations_df.show(5,False)"
      ],
      "execution_count": 0,
      "outputs": []
    }
  ]
}