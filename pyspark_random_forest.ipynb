{
  "nbformat": 4,
  "nbformat_minor": 0,
  "metadata": {
    "colab": {
      "name": "pyspark_random_forest.ipynb",
      "provenance": [],
      "collapsed_sections": [],
      "include_colab_link": true
    },
    "kernelspec": {
      "name": "python3",
      "display_name": "Python 3"
    }
  },
  "cells": [
    {
      "cell_type": "markdown",
      "metadata": {
        "id": "view-in-github",
        "colab_type": "text"
      },
      "source": [
        "<a href=\"https://colab.research.google.com/github/Datangels/Machine_Learning_with_PySpark/blob/master/pyspark_random_forest.ipynb\" target=\"_parent\"><img src=\"https://colab.research.google.com/assets/colab-badge.svg\" alt=\"Open In Colab\"/></a>"
      ]
    },
    {
      "cell_type": "markdown",
      "metadata": {
        "id": "AYNNlTodNLbf",
        "colab_type": "text"
      },
      "source": [
        "## **Google Colab configuration & creation the SparkSession Object**"
      ]
    },
    {
      "cell_type": "code",
      "metadata": {
        "id": "8FKtDaeR2Z46",
        "colab_type": "code",
        "colab": {}
      },
      "source": [
        "!apt-get install openjdk-8-jdk-headless -qq > /dev/null\n",
        "!wget -q https://www-us.apache.org/dist/spark/spark-2.4.4/spark-2.4.4-bin-hadoop2.7.tgz\n",
        "!tar xf spark-2.4.4-bin-hadoop2.7.tgz\n",
        "!pip install -q findspark"
      ],
      "execution_count": 0,
      "outputs": []
    },
    {
      "cell_type": "code",
      "metadata": {
        "id": "EuT3jHHAOBvu",
        "colab_type": "code",
        "colab": {}
      },
      "source": [
        "import os\n",
        "os.environ[\"JAVA_HOME\"] = \"/usr/lib/jvm/java-8-openjdk-amd64\"\n",
        "os.environ[\"SPARK_HOME\"] = \"/content/spark-2.4.4-bin-hadoop2.7\""
      ],
      "execution_count": 0,
      "outputs": []
    },
    {
      "cell_type": "code",
      "metadata": {
        "id": "pWpueej7ODZS",
        "colab_type": "code",
        "colab": {}
      },
      "source": [
        "import findspark\n",
        "findspark.init()\n",
        "from pyspark.sql import SparkSession\n",
        "spark = SparkSession.builder.master(\"local[*]\").getOrCreate()\n",
        "import numpy as np\n",
        "import seaborn as sns\n",
        "from matplotlib import pyplot as plt"
      ],
      "execution_count": 0,
      "outputs": []
    },
    {
      "cell_type": "markdown",
      "metadata": {
        "id": "D2cMuUpYNr1e",
        "colab_type": "text"
      },
      "source": [
        "## **Read the Dataset**"
      ]
    },
    {
      "cell_type": "code",
      "metadata": {
        "id": "kLtRORDQ7PK1",
        "colab_type": "code",
        "colab": {}
      },
      "source": [
        "from google.colab import drive\n",
        "drive.mount('/content/drive', force_remount=True)"
      ],
      "execution_count": 0,
      "outputs": []
    },
    {
      "cell_type": "code",
      "metadata": {
        "id": "Bp28j6Rz6CnA",
        "colab_type": "code",
        "colab": {}
      },
      "source": [
        "dataset_not_clean = spark.read.csv('/content/drive/My Drive/pycharm_colab_training/dataset/marriage_stats.csv',inferSchema=True, header=True)"
      ],
      "execution_count": 0,
      "outputs": []
    },
    {
      "cell_type": "markdown",
      "metadata": {
        "id": "XWXXJY2UON8Z",
        "colab_type": "text"
      },
      "source": [
        "## **Exploratory Data Analysis**\n"
      ]
    },
    {
      "cell_type": "code",
      "metadata": {
        "id": "L5HTBvNT_8AZ",
        "colab_type": "code",
        "colab": {}
      },
      "source": [
        "# dataset_not_clean.printSchema()\n",
        "dataset_not_clean.describe().show()\n",
        "# print((dataset_not_clean.count(), len(dataset_not_clean.columns)))"
      ],
      "execution_count": 0,
      "outputs": []
    },
    {
      "cell_type": "markdown",
      "metadata": {
        "id": "V0nGAhbvLeUc",
        "colab_type": "text"
      },
      "source": [
        "## **Feature Engineering**"
      ]
    },
    {
      "cell_type": "code",
      "metadata": {
        "id": "GWtHfP_SLfzX",
        "colab_type": "code",
        "colab": {}
      },
      "source": [
        "from pyspark.ml.feature import VectorAssembler\n",
        "\n",
        "df_assembler = VectorAssembler(inputCols=['rate_marriage', 'age', 'yrs_married', 'children', 'religious'], outputCol=\"features\")\n",
        "dataset_clean = df_assembler.transform(dataset_not_clean)\n",
        "model_df = dataset_clean.select(['features','affairs'])\n",
        "model_df.show(2)"
      ],
      "execution_count": 0,
      "outputs": []
    },
    {
      "cell_type": "markdown",
      "metadata": {
        "id": "3pu_7311a86h",
        "colab_type": "text"
      },
      "source": [
        "## **Splitting the Dataset**"
      ]
    },
    {
      "cell_type": "code",
      "metadata": {
        "id": "J6hf7Z9vEjNz",
        "colab_type": "code",
        "colab": {}
      },
      "source": [
        "train_df, test_df = model_df.randomSplit([0.75,0.25])\n",
        "print(\"whole dataset: \" + str(model_df.count()))\n",
        "print(\"train_df dataset: \" + str(train_df.count()))\n",
        "print(\"test_df dataset: \" + str(test_df.count()))"
      ],
      "execution_count": 0,
      "outputs": []
    },
    {
      "cell_type": "markdown",
      "metadata": {
        "id": "Hbppdk2cbbUK",
        "colab_type": "text"
      },
      "source": [
        "## **Build and Train Random Forest Model**\n"
      ]
    },
    {
      "cell_type": "code",
      "metadata": {
        "id": "RMYgTHHxE4MU",
        "colab_type": "code",
        "colab": {}
      },
      "source": [
        "from pyspark.ml.classification import RandomForestClassifier\n",
        "rf_classifier = RandomForestClassifier(labelCol='affairs',numTrees=50).fit(train_df)"
      ],
      "execution_count": 0,
      "outputs": []
    },
    {
      "cell_type": "markdown",
      "metadata": {
        "id": "IriNi16pP25c",
        "colab_type": "text"
      },
      "source": [
        "## **Evaluation on Test Data**"
      ]
    },
    {
      "cell_type": "code",
      "metadata": {
        "id": "UVE5snDNP55Z",
        "colab_type": "code",
        "colab": {}
      },
      "source": [
        "rf_predictions = rf_classifier.transform(test_df)\n",
        "rf_predictions.show(10)"
      ],
      "execution_count": 0,
      "outputs": []
    },
    {
      "cell_type": "markdown",
      "metadata": {
        "id": "6DfpnzQ0Tpkd",
        "colab_type": "text"
      },
      "source": [
        "## **Accuracy**"
      ]
    },
    {
      "cell_type": "code",
      "metadata": {
        "id": "Hj1hQWp8TqwH",
        "colab_type": "code",
        "colab": {}
      },
      "source": [
        "from pyspark.ml.evaluation import MulticlassClassificationEvaluator\n",
        "from pyspark.ml.evaluation import BinaryClassificationEvaluator\n",
        "rf_accuracy = MulticlassClassificationEvaluator(labelCol='affairs',metricName='accuracy').evaluate(rf_predictions)\n",
        "print('The accuracy of RF on test data is {0:.0%}'.format(rf_accuracy))"
      ],
      "execution_count": 0,
      "outputs": []
    },
    {
      "cell_type": "markdown",
      "metadata": {
        "id": "XgjVtnciUNLn",
        "colab_type": "text"
      },
      "source": [
        "## **Precision**"
      ]
    },
    {
      "cell_type": "code",
      "metadata": {
        "id": "yRNLtLQGURsA",
        "colab_type": "code",
        "colab": {}
      },
      "source": [
        "rf_precision = MulticlassClassificationEvaluator(labelCol='affairs',metricName='weightedPrecision').evaluate(rf_predictions)\n",
        "print('The precision rate on test data is {0:.0%}'.format(rf_precision))"
      ],
      "execution_count": 0,
      "outputs": []
    },
    {
      "cell_type": "markdown",
      "metadata": {
        "id": "bahztgkGUBCw",
        "colab_type": "text"
      },
      "source": [
        "## **AUC (Area under the curve)**"
      ]
    },
    {
      "cell_type": "code",
      "metadata": {
        "id": "dUuDfsMBUCj9",
        "colab_type": "code",
        "colab": {}
      },
      "source": [
        "rf_auc = BinaryClassificationEvaluator(labelCol='affairs').evaluate(rf_predictions)\n",
        "print(rf_auc)\n",
        "print(rf_classifier.featureImportances)"
      ],
      "execution_count": 0,
      "outputs": []
    },
    {
      "cell_type": "code",
      "metadata": {
        "id": "TL442xhMLEX9",
        "colab_type": "code",
        "colab": {}
      },
      "source": [
        "df.schema[\"features\"].metadata[\"ml_attr\"][\"attrs\"] # Rate_marriage is the most important feature from a prediction point of view"
      ],
      "execution_count": 0,
      "outputs": []
    }
  ]
}