{
  "nbformat": 4,
  "nbformat_minor": 0,
  "metadata": {
    "colab": {
      "name": "pyspark_logistic_regression.ipynb",
      "provenance": [],
      "collapsed_sections": [],
      "include_colab_link": true
    },
    "kernelspec": {
      "name": "python3",
      "display_name": "Python 3"
    }
  },
  "cells": [
    {
      "cell_type": "markdown",
      "metadata": {
        "id": "view-in-github",
        "colab_type": "text"
      },
      "source": [
        "<a href=\"https://colab.research.google.com/github/Datangels/Machine_Learning_with_PySpark/blob/master/pyspark_logistic_regression.ipynb\" target=\"_parent\"><img src=\"https://colab.research.google.com/assets/colab-badge.svg\" alt=\"Open In Colab\"/></a>"
      ]
    },
    {
      "cell_type": "markdown",
      "metadata": {
        "id": "AYNNlTodNLbf",
        "colab_type": "text"
      },
      "source": [
        "## **Google Colab configuration & creation the SparkSession Object**\n",
        "\n",
        "---\n",
        "\n"
      ]
    },
    {
      "cell_type": "code",
      "metadata": {
        "id": "8FKtDaeR2Z46",
        "colab_type": "code",
        "colab": {}
      },
      "source": [
        "!apt-get install openjdk-8-jdk-headless -qq > /dev/null\n",
        "!wget -q https://www-us.apache.org/dist/spark/spark-2.4.4/spark-2.4.4-bin-hadoop2.7.tgz\n",
        "!tar xf spark-2.4.4-bin-hadoop2.7.tgz\n",
        "!pip install -q findspark"
      ],
      "execution_count": 0,
      "outputs": []
    },
    {
      "cell_type": "code",
      "metadata": {
        "id": "EuT3jHHAOBvu",
        "colab_type": "code",
        "colab": {}
      },
      "source": [
        "import os\n",
        "os.environ[\"JAVA_HOME\"] = \"/usr/lib/jvm/java-8-openjdk-amd64\"\n",
        "os.environ[\"SPARK_HOME\"] = \"/content/spark-2.4.4-bin-hadoop2.7\""
      ],
      "execution_count": 0,
      "outputs": []
    },
    {
      "cell_type": "code",
      "metadata": {
        "id": "pWpueej7ODZS",
        "colab_type": "code",
        "colab": {}
      },
      "source": [
        "import findspark\n",
        "findspark.init()\n",
        "from pyspark.sql import SparkSession\n",
        "spark = SparkSession.builder.master(\"local[*]\").getOrCreate()\n",
        "import numpy as np\n",
        "import seaborn as sns\n",
        "from matplotlib import pyplot as plt"
      ],
      "execution_count": 0,
      "outputs": []
    },
    {
      "cell_type": "markdown",
      "metadata": {
        "id": "D2cMuUpYNr1e",
        "colab_type": "text"
      },
      "source": [
        "## **Read the Dataset**"
      ]
    },
    {
      "cell_type": "code",
      "metadata": {
        "id": "kLtRORDQ7PK1",
        "colab_type": "code",
        "outputId": "77f7b8df-bbf3-4216-dfb2-d172bc6fc768",
        "colab": {
          "base_uri": "https://localhost:8080/",
          "height": 128
        }
      },
      "source": [
        "from google.colab import drive\n",
        "drive.mount('/content/drive', force_remount=True)"
      ],
      "execution_count": 0,
      "outputs": [
        {
          "output_type": "stream",
          "text": [
            "Go to this URL in a browser: https://accounts.google.com/o/oauth2/auth?client_id=947318989803-6bn6qk8qdgf4n4g3pfee6491hc0brc4i.apps.googleusercontent.com&redirect_uri=urn%3aietf%3awg%3aoauth%3a2.0%3aoob&response_type=code&scope=email%20https%3a%2f%2fwww.googleapis.com%2fauth%2fdocs.test%20https%3a%2f%2fwww.googleapis.com%2fauth%2fdrive%20https%3a%2f%2fwww.googleapis.com%2fauth%2fdrive.photos.readonly%20https%3a%2f%2fwww.googleapis.com%2fauth%2fpeopleapi.readonly\n",
            "\n",
            "Enter your authorization code:\n",
            "··········\n",
            "Mounted at /content/drive\n"
          ],
          "name": "stdout"
        }
      ]
    },
    {
      "cell_type": "code",
      "metadata": {
        "id": "Bp28j6Rz6CnA",
        "colab_type": "code",
        "colab": {}
      },
      "source": [
        "dataset_not_clean = spark.read.csv('/content/drive/My Drive/pycharm_colab_training/dataset/user_countries_socialMediaUsage.csv',inferSchema=True, header=True)"
      ],
      "execution_count": 0,
      "outputs": []
    },
    {
      "cell_type": "markdown",
      "metadata": {
        "id": "XWXXJY2UON8Z",
        "colab_type": "text"
      },
      "source": [
        "## **Exploratory Data Analysis**\n",
        "\n",
        "> Indented block\n",
        "\n",
        "\n"
      ]
    },
    {
      "cell_type": "code",
      "metadata": {
        "id": "L5HTBvNT_8AZ",
        "colab_type": "code",
        "outputId": "b303a2b0-6ca1-47e3-c010-4b306da3e20d",
        "colab": {
          "base_uri": "https://localhost:8080/",
          "height": 199
        }
      },
      "source": [
        "# dataset_not_clean.printSchema()\n",
        "dataset_not_clean.describe().show()\n",
        "# print((dataset_not_clean.count(), len(dataset_not_clean.columns)))"
      ],
      "execution_count": 0,
      "outputs": [
        {
          "output_type": "stream",
          "text": [
            "+-------+--------+-----------------+-----------------+--------+-----------------+------------------+\n",
            "|summary| Country|              Age|   Repeat_Visitor|Platform| Web_pages_viewed|            Status|\n",
            "+-------+--------+-----------------+-----------------+--------+-----------------+------------------+\n",
            "|  count|   20000|            20000|            20000|   20000|            20000|             20000|\n",
            "|   mean|    null|         28.53955|           0.5029|    null|           9.5533|               0.5|\n",
            "| stddev|    null|7.888912950773227|0.500004090187782|    null|6.073903499824976|0.5000125004687693|\n",
            "|    min|  Brazil|               17|                0|    Bing|                1|                 0|\n",
            "|    max|Malaysia|              111|                1|   Yahoo|               29|                 1|\n",
            "+-------+--------+-----------------+-----------------+--------+-----------------+------------------+\n",
            "\n"
          ],
          "name": "stdout"
        }
      ]
    },
    {
      "cell_type": "markdown",
      "metadata": {
        "id": "V0nGAhbvLeUc",
        "colab_type": "text"
      },
      "source": [
        "## **Feature Engineering**"
      ]
    },
    {
      "cell_type": "code",
      "metadata": {
        "id": "GWtHfP_SLfzX",
        "colab_type": "code",
        "outputId": "113fb1a6-1233-4554-b982-89bf9f130bc6",
        "colab": {
          "base_uri": "https://localhost:8080/",
          "height": 492
        }
      },
      "source": [
        "from pyspark.ml.feature import StringIndexer\n",
        "from pyspark.ml.feature import VectorAssembler\n",
        "from pyspark.ml.feature import OneHotEncoder\n",
        "\n",
        "platform_indexer = StringIndexer(inputCol=\"Platform\", outputCol=\"Platform_Num\").fit(dataset_not_clean)\n",
        "dataset_partially_clean = platform_indexer.transform(dataset_not_clean)\n",
        "platform_encoder = OneHotEncoder(inputCol=\"Platform_Num\", outputCol=\"Platform_Vector\")\n",
        "dataset_partially_clean = platform_encoder.transform(dataset_partially_clean)\n",
        "\n",
        "country_indexer = StringIndexer(inputCol=\"Country\", outputCol=\"Country_Num\").fit(dataset_partially_clean)\n",
        "dataset_partially_clean = country_indexer.transform(dataset_partially_clean)\n",
        "country_encoder = OneHotEncoder(inputCol=\"Country_Num\", outputCol=\"Country_Vector\")\n",
        "dataset_partially_clean = country_encoder.transform(dataset_partially_clean)\n",
        "\n",
        "dataset_assembler = VectorAssembler(inputCols=['Platform_Vector','Country_Vector','Age', 'Repeat_Visitor','Web_pages_viewed'], outputCol=\"features\")\n",
        "dataset_clean = dataset_assembler.transform(dataset_partially_clean)\n",
        "\n",
        "dataset_clean.show()"
      ],
      "execution_count": 0,
      "outputs": [
        {
          "output_type": "stream",
          "text": [
            "+---------+---+--------------+--------+----------------+------+------------+---------------+-----------+--------------+--------------------+\n",
            "|  Country|Age|Repeat_Visitor|Platform|Web_pages_viewed|Status|Platform_Num|Platform_Vector|Country_Num|Country_Vector|            features|\n",
            "+---------+---+--------------+--------+----------------+------+------------+---------------+-----------+--------------+--------------------+\n",
            "|    India| 41|             1|   Yahoo|              21|     1|         0.0|  (2,[0],[1.0])|        1.0| (3,[1],[1.0])|[1.0,0.0,0.0,1.0,...|\n",
            "|   Brazil| 28|             1|   Yahoo|               5|     0|         0.0|  (2,[0],[1.0])|        2.0| (3,[2],[1.0])|[1.0,0.0,0.0,0.0,...|\n",
            "|   Brazil| 40|             0|  Google|               3|     0|         1.0|  (2,[1],[1.0])|        2.0| (3,[2],[1.0])|(8,[1,4,5,7],[1.0...|\n",
            "|Indonesia| 31|             1|    Bing|              15|     1|         2.0|      (2,[],[])|        0.0| (3,[0],[1.0])|(8,[2,5,6,7],[1.0...|\n",
            "| Malaysia| 32|             0|  Google|              15|     1|         1.0|  (2,[1],[1.0])|        3.0|     (3,[],[])|(8,[1,5,7],[1.0,3...|\n",
            "|   Brazil| 32|             0|  Google|               3|     0|         1.0|  (2,[1],[1.0])|        2.0| (3,[2],[1.0])|(8,[1,4,5,7],[1.0...|\n",
            "|   Brazil| 32|             0|  Google|               6|     0|         1.0|  (2,[1],[1.0])|        2.0| (3,[2],[1.0])|(8,[1,4,5,7],[1.0...|\n",
            "|Indonesia| 27|             0|  Google|               9|     0|         1.0|  (2,[1],[1.0])|        0.0| (3,[0],[1.0])|(8,[1,2,5,7],[1.0...|\n",
            "|Indonesia| 32|             0|   Yahoo|               2|     0|         0.0|  (2,[0],[1.0])|        0.0| (3,[0],[1.0])|(8,[0,2,5,7],[1.0...|\n",
            "|Indonesia| 31|             1|    Bing|              16|     1|         2.0|      (2,[],[])|        0.0| (3,[0],[1.0])|(8,[2,5,6,7],[1.0...|\n",
            "| Malaysia| 27|             1|  Google|              21|     1|         1.0|  (2,[1],[1.0])|        3.0|     (3,[],[])|(8,[1,5,6,7],[1.0...|\n",
            "|Indonesia| 29|             1|   Yahoo|               9|     1|         0.0|  (2,[0],[1.0])|        0.0| (3,[0],[1.0])|[1.0,0.0,1.0,0.0,...|\n",
            "|Indonesia| 33|             1|   Yahoo|              20|     1|         0.0|  (2,[0],[1.0])|        0.0| (3,[0],[1.0])|[1.0,0.0,1.0,0.0,...|\n",
            "|Indonesia| 35|             0|    Bing|               2|     0|         2.0|      (2,[],[])|        0.0| (3,[0],[1.0])|(8,[2,5,7],[1.0,3...|\n",
            "|    India| 27|             1|   Yahoo|              21|     1|         0.0|  (2,[0],[1.0])|        1.0| (3,[1],[1.0])|[1.0,0.0,0.0,1.0,...|\n",
            "|Indonesia| 35|             0|    Bing|               2|     0|         2.0|      (2,[],[])|        0.0| (3,[0],[1.0])|(8,[2,5,7],[1.0,3...|\n",
            "|Indonesia| 19|             1|   Yahoo|              17|     1|         0.0|  (2,[0],[1.0])|        0.0| (3,[0],[1.0])|[1.0,0.0,1.0,0.0,...|\n",
            "|Indonesia| 17|             1|   Yahoo|              13|     1|         0.0|  (2,[0],[1.0])|        0.0| (3,[0],[1.0])|[1.0,0.0,1.0,0.0,...|\n",
            "| Malaysia| 46|             0|   Yahoo|               5|     0|         0.0|  (2,[0],[1.0])|        3.0|     (3,[],[])|(8,[0,5,7],[1.0,4...|\n",
            "|Indonesia| 24|             0|  Google|               7|     0|         1.0|  (2,[1],[1.0])|        0.0| (3,[0],[1.0])|(8,[1,2,5,7],[1.0...|\n",
            "+---------+---+--------------+--------+----------------+------+------------+---------------+-----------+--------------+--------------------+\n",
            "only showing top 20 rows\n",
            "\n"
          ],
          "name": "stdout"
        }
      ]
    },
    {
      "cell_type": "markdown",
      "metadata": {
        "id": "3pu_7311a86h",
        "colab_type": "text"
      },
      "source": [
        "## **Splitting the Dataset**"
      ]
    },
    {
      "cell_type": "code",
      "metadata": {
        "id": "J6hf7Z9vEjNz",
        "colab_type": "code",
        "outputId": "1ec4909a-3a60-4248-d9d1-c3489cbf025b",
        "colab": {
          "base_uri": "https://localhost:8080/",
          "height": 71
        }
      },
      "source": [
        "model_df = dataset_clean.select(['features','Status'])\n",
        "train_df, test_df = model_df.randomSplit([0.75,0.25])\n",
        "print(\"whole dataset: \" + str(model_df.count()))\n",
        "print(\"train_df dataset: \" + str(train_df.count()))\n",
        "print(\"test_df dataset: \" + str(test_df.count()))"
      ],
      "execution_count": 0,
      "outputs": [
        {
          "output_type": "stream",
          "text": [
            "whole dataset: 20000\n",
            "train_df dataset: 15053\n",
            "test_df dataset: 4947\n"
          ],
          "name": "stdout"
        }
      ]
    },
    {
      "cell_type": "markdown",
      "metadata": {
        "id": "Hbppdk2cbbUK",
        "colab_type": "text"
      },
      "source": [
        "## **Build and Train Logistic Regression Mode**"
      ]
    },
    {
      "cell_type": "code",
      "metadata": {
        "id": "RMYgTHHxE4MU",
        "colab_type": "code",
        "colab": {}
      },
      "source": [
        "from pyspark.ml.classification import LogisticRegression\n",
        "log_reg = LogisticRegression(labelCol='Status').fit(train_df)"
      ],
      "execution_count": 0,
      "outputs": []
    },
    {
      "cell_type": "markdown",
      "metadata": {
        "id": "IriNi16pP25c",
        "colab_type": "text"
      },
      "source": [
        "## **Training Results**"
      ]
    },
    {
      "cell_type": "code",
      "metadata": {
        "id": "UVE5snDNP55Z",
        "colab_type": "code",
        "outputId": "4dff1371-cc54-44ac-8369-11377546bf89",
        "colab": {
          "base_uri": "https://localhost:8080/",
          "height": 309
        }
      },
      "source": [
        "train_results = log_reg.evaluate(train_df).predictions\n",
        "train_results.filter(train_results['Status']==1).filter(train_results['prediction']==1).select(['Status','prediction','probability']).show(10,False)"
      ],
      "execution_count": 0,
      "outputs": [
        {
          "output_type": "stream",
          "text": [
            "+------+----------+----------------------------------------+\n",
            "|Status|prediction|probability                             |\n",
            "+------+----------+----------------------------------------+\n",
            "|1     |1.0       |[0.32738633322874056,0.6726136667712594]|\n",
            "|1     |1.0       |[0.32738633322874056,0.6726136667712594]|\n",
            "|1     |1.0       |[0.18784915435591013,0.8121508456440898]|\n",
            "|1     |1.0       |[0.18784915435591013,0.8121508456440898]|\n",
            "|1     |1.0       |[0.18784915435591013,0.8121508456440898]|\n",
            "|1     |1.0       |[0.09902872212683424,0.9009712778731658]|\n",
            "|1     |1.0       |[0.09902872212683424,0.9009712778731658]|\n",
            "|1     |1.0       |[0.09902872212683424,0.9009712778731658]|\n",
            "|1     |1.0       |[0.09902872212683424,0.9009712778731658]|\n",
            "|1     |1.0       |[0.04963829348541264,0.9503617065145874]|\n",
            "+------+----------+----------------------------------------+\n",
            "only showing top 10 rows\n",
            "\n"
          ],
          "name": "stdout"
        }
      ]
    },
    {
      "cell_type": "markdown",
      "metadata": {
        "id": "uZtcwYoPQ9y4",
        "colab_type": "text"
      },
      "source": [
        "## **Evaluate Logistic Regression Model on Test Data**"
      ]
    },
    {
      "cell_type": "code",
      "metadata": {
        "id": "dKmZhSAhQ9GG",
        "colab_type": "code",
        "outputId": "a3bbb200-a057-4038-a31f-ace548b248db",
        "colab": {
          "base_uri": "https://localhost:8080/",
          "height": 309
        }
      },
      "source": [
        "results = log_reg.evaluate(test_df).predictions\n",
        "results.select(['Status','prediction']).show(10,False)"
      ],
      "execution_count": 0,
      "outputs": [
        {
          "output_type": "stream",
          "text": [
            "+------+----------+\n",
            "|Status|prediction|\n",
            "+------+----------+\n",
            "|0     |0.0       |\n",
            "|0     |0.0       |\n",
            "|0     |0.0       |\n",
            "|0     |0.0       |\n",
            "|0     |0.0       |\n",
            "|0     |0.0       |\n",
            "|1     |0.0       |\n",
            "|0     |0.0       |\n",
            "|0     |0.0       |\n",
            "|1     |1.0       |\n",
            "+------+----------+\n",
            "only showing top 10 rows\n",
            "\n"
          ],
          "name": "stdout"
        }
      ]
    },
    {
      "cell_type": "markdown",
      "metadata": {
        "id": "QX800CY_TVQv",
        "colab_type": "text"
      },
      "source": [
        "## **Confusion Matrix**"
      ]
    },
    {
      "cell_type": "code",
      "metadata": {
        "id": "uxxBWls7TWkk",
        "colab_type": "code",
        "colab": {}
      },
      "source": [
        "true_postives = results[(results.Status == 1) & (results.prediction == 1)].count()\n",
        "true_negatives = results[(results.Status == 0) & (results.prediction == 0)].count()\n",
        "false_postives = results[(results.Status == 0) & (results.prediction == 1)].count()\n",
        "false_negatives = results[(results.Status == 1) & (results.prediction == 0)].count()"
      ],
      "execution_count": 0,
      "outputs": []
    },
    {
      "cell_type": "markdown",
      "metadata": {
        "id": "6DfpnzQ0Tpkd",
        "colab_type": "text"
      },
      "source": [
        "## **Accuracy**"
      ]
    },
    {
      "cell_type": "code",
      "metadata": {
        "id": "Hj1hQWp8TqwH",
        "colab_type": "code",
        "outputId": "472f54e5-68dd-4d89-8620-e3c564d6a26a",
        "colab": {
          "base_uri": "https://localhost:8080/",
          "height": 35
        }
      },
      "source": [
        "accuracy=float((true_postives + true_negatives) / (results.count()))\n",
        "print(accuracy)"
      ],
      "execution_count": 0,
      "outputs": [
        {
          "output_type": "stream",
          "text": [
            "0.9419850414392561\n"
          ],
          "name": "stdout"
        }
      ]
    },
    {
      "cell_type": "markdown",
      "metadata": {
        "id": "bahztgkGUBCw",
        "colab_type": "text"
      },
      "source": [
        "## **Recall**"
      ]
    },
    {
      "cell_type": "code",
      "metadata": {
        "id": "dUuDfsMBUCj9",
        "colab_type": "code",
        "outputId": "7f633498-a31d-41c7-9b18-8964857433e2",
        "colab": {
          "base_uri": "https://localhost:8080/",
          "height": 35
        }
      },
      "source": [
        "# Recall rate shows how much of the positive class cases we are able to predict correctly out of the total positive class observations.\n",
        "recall = float(true_postives) / (true_postives + false_negatives)\n",
        "print(recall)"
      ],
      "execution_count": 0,
      "outputs": [
        {
          "output_type": "stream",
          "text": [
            "0.9403946838501812\n"
          ],
          "name": "stdout"
        }
      ]
    },
    {
      "cell_type": "markdown",
      "metadata": {
        "id": "XgjVtnciUNLn",
        "colab_type": "text"
      },
      "source": [
        "## **Precision**"
      ]
    },
    {
      "cell_type": "code",
      "metadata": {
        "id": "yRNLtLQGURsA",
        "colab_type": "code",
        "outputId": "e51f8dd5-2f45-4c42-8a6e-0f9be2ec89c0",
        "colab": {
          "base_uri": "https://localhost:8080/",
          "height": 35
        }
      },
      "source": [
        "# Precision rate talks about the number of true positives predicted correctly out of all the predicted positives observations\n",
        "precision = float(true_postives) / (true_postives + false_postives)\n",
        "print(precision)"
      ],
      "execution_count": 0,
      "outputs": [
        {
          "output_type": "stream",
          "text": [
            "0.9438156831042845\n"
          ],
          "name": "stdout"
        }
      ]
    }
  ]
}